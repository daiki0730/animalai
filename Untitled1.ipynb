{
 "cells": [
  {
   "cell_type": "code",
   "execution_count": 1,
   "id": "f5edf86f",
   "metadata": {},
   "outputs": [
    {
     "name": "stderr",
     "output_type": "stream",
     "text": [
      "/Users/daiki/opt/anaconda3/envs/tf140/lib/python3.8/site-packages/numpy/core/_asarray.py:136: VisibleDeprecationWarning: Creating an ndarray from ragged nested sequences (which is a list-or-tuple of lists-or-tuples-or ndarrays with different lengths or shapes) is deprecated. If you meant to do this, you must specify 'dtype=object' when creating the ndarray\n",
      "  return array(a, dtype, copy=False, order=order, subok=True)\n"
     ]
    }
   ],
   "source": [
    "from PIL import Image\n",
    "import os, glob\n",
    "import numpy as np\n",
    "from sklearn import model_selection\n",
    "\n",
    "classes = [\"monkey\",\"boar\",\"crow\"]\n",
    "num_classes = len(classes)\n",
    "image_size = 50\n",
    "\n",
    "# 画像の読み込み\n",
    "X = []\n",
    "Y = []\n",
    "for index, classlabel in enumerate(classes):\n",
    "    photos_dir = \"/Users/daiki/animalai/\" + classlabel\n",
    "    files = glob.glob(photos_dir + \"/*.jpg\")\n",
    "    for i,file in enumerate(files):\n",
    "        if i >= 200: break\n",
    "        image = Image.open(file)\n",
    "        image = image.convert(\"RGB\")\n",
    "        image = image.resize((image_size,image_size))\n",
    "        data = np.asarray(image)\n",
    "        X.append(data)\n",
    "        Y.append(index)\n",
    "\n",
    "X = np.array(X)\n",
    "Y = np.array(Y)\n",
    "\n",
    "X_train, X_test, y_train, y_test = model_selection.train_test_split(X, Y)\n",
    "xy = (X_train, X_test, y_train, y_test)\n",
    "np.save(\"/Users/daiki/animalai/animal.npy\", xy)\n"
   ]
  },
  {
   "cell_type": "code",
   "execution_count": 3,
   "id": "97ebf643",
   "metadata": {},
   "outputs": [
    {
     "data": {
      "text/plain": [
       "183"
      ]
     },
     "execution_count": 3,
     "metadata": {},
     "output_type": "execute_result"
    }
   ],
   "source": [
    "len(X_train)"
   ]
  },
  {
   "cell_type": "code",
   "execution_count": 4,
   "id": "ba8c6161",
   "metadata": {},
   "outputs": [
    {
     "data": {
      "text/plain": [
       "183"
      ]
     },
     "execution_count": 4,
     "metadata": {},
     "output_type": "execute_result"
    }
   ],
   "source": [
    "len(y_train)"
   ]
  },
  {
   "cell_type": "code",
   "execution_count": 6,
   "id": "3de203b2",
   "metadata": {},
   "outputs": [
    {
     "data": {
      "text/plain": [
       "1"
      ]
     },
     "execution_count": 6,
     "metadata": {},
     "output_type": "execute_result"
    }
   ],
   "source": [
    "y_train[5]"
   ]
  },
  {
   "cell_type": "code",
   "execution_count": 7,
   "id": "939b4998",
   "metadata": {},
   "outputs": [
    {
     "data": {
      "text/plain": [
       "2"
      ]
     },
     "execution_count": 7,
     "metadata": {},
     "output_type": "execute_result"
    }
   ],
   "source": [
    "y_train[100]"
   ]
  },
  {
   "cell_type": "code",
   "execution_count": 8,
   "id": "c18d9d7f",
   "metadata": {},
   "outputs": [
    {
     "data": {
      "text/plain": [
       "array([[[145, 188, 230],\n",
       "        [145, 188, 230],\n",
       "        [145, 188, 230],\n",
       "        ...,\n",
       "        [148, 189, 229],\n",
       "        [148, 187, 228],\n",
       "        [148, 187, 228]],\n",
       "\n",
       "       [[147, 189, 230],\n",
       "        [148, 189, 230],\n",
       "        [148, 189, 230],\n",
       "        ...,\n",
       "        [150, 188, 229],\n",
       "        [149, 188, 229],\n",
       "        [149, 188, 229]],\n",
       "\n",
       "       [[149, 187, 228],\n",
       "        [149, 187, 229],\n",
       "        [150, 187, 229],\n",
       "        ...,\n",
       "        [151, 187, 227],\n",
       "        [149, 188, 227],\n",
       "        [149, 188, 227]],\n",
       "\n",
       "       ...,\n",
       "\n",
       "       [[195, 180, 164],\n",
       "        [194, 178, 163],\n",
       "        [193, 176, 161],\n",
       "        ...,\n",
       "        [ 57,  57,  60],\n",
       "        [ 62,  66,  81],\n",
       "        [ 57,  64,  77]],\n",
       "\n",
       "       [[196, 182, 166],\n",
       "        [198, 184, 167],\n",
       "        [196, 183, 166],\n",
       "        ...,\n",
       "        [ 40,  40,  41],\n",
       "        [ 38,  42,  43],\n",
       "        [ 38,  41,  49]],\n",
       "\n",
       "       [[206, 191, 165],\n",
       "        [205, 191, 165],\n",
       "        [204, 189, 163],\n",
       "        ...,\n",
       "        [ 25,  26,  28],\n",
       "        [ 32,  36,  35],\n",
       "        [ 47,  50,  57]]], dtype=uint8)"
      ]
     },
     "execution_count": 8,
     "metadata": {},
     "output_type": "execute_result"
    }
   ],
   "source": [
    "X_train[100]"
   ]
  },
  {
   "cell_type": "code",
   "execution_count": null,
   "id": "b68ab0a0",
   "metadata": {},
   "outputs": [],
   "source": []
  }
 ],
 "metadata": {
  "kernelspec": {
   "display_name": "Python 3",
   "language": "python",
   "name": "python3"
  },
  "language_info": {
   "codemirror_mode": {
    "name": "ipython",
    "version": 3
   },
   "file_extension": ".py",
   "mimetype": "text/x-python",
   "name": "python",
   "nbconvert_exporter": "python",
   "pygments_lexer": "ipython3",
   "version": "3.8.10"
  }
 },
 "nbformat": 4,
 "nbformat_minor": 5
}
